{
 "cells": [
  {
   "cell_type": "code",
   "execution_count": 1,
   "metadata": {
    "id": "agEZOrmPUCpr"
   },
   "outputs": [],
   "source": [
    "import nltk\n",
    "import re\n",
    "import string\n",
    "import random\n",
    "#import wikipedia\n",
    "#ann = wikipedia.page(\"Artificial neural network\")\n",
    "#file = open('ann.txt', 'w')\n",
    "#file.write(ann.content)\n",
    "# used the wikipedia library to get plain text from wiki and i wrote it to ann.txt"
   ]
  },
  {
   "cell_type": "code",
   "execution_count": 2,
   "metadata": {
    "id": "-T30McCzUS6U"
   },
   "outputs": [],
   "source": [
    "file = open('ann.txt')\n",
    "raw_txt = file.read()"
   ]
  },
  {
   "cell_type": "code",
   "execution_count": 3,
   "metadata": {
    "id": "7C9rAe9aVJyo"
   },
   "outputs": [],
   "source": [
    "from nltk import sent_tokenize, word_tokenize\n",
    "from nltk.corpus import stopwords\n",
    "from nltk import WordNetLemmatizer\n",
    "\n",
    "def normalize_text(text):\n",
    "    word_tokens = word_tokenize(text)\n",
    "    sent_tokens = sent_tokenize(text)\n",
    "    word_tokens = [word for word in word_tokens if word.isalpha()]\n",
    "    word_tokens = [word.lower() for word in word_tokens]\n",
    "    word_tokens = [word for word in word_tokens if not word in stopwords.words(\"english\")]\n",
    "\n",
    "    lemma = WordNetLemmatizer()\n",
    "    word_tokens = [lemma.lemmatize(word, pos = \"v\") for word in word_tokens]\n",
    "    word_tokens = [lemma.lemmatize(word, pos = \"n\") for word in word_tokens]\n",
    "    return [word_tokens, sent_tokens]"
   ]
  },
  {
   "cell_type": "code",
   "execution_count": 4,
   "metadata": {
    "id": "EwhbKHg2VfK4"
   },
   "outputs": [],
   "source": [
    "[word_tokens, sent_tokens] = normalize_text(raw_txt)"
   ]
  },
  {
   "cell_type": "code",
   "execution_count": 5,
   "metadata": {
    "id": "TSwDsfMgXcJI"
   },
   "outputs": [],
   "source": [
    "import random\n",
    "def greet_user(user_input, greetings, responses):\n",
    "    for greeting in greetings:\n",
    "        if user_input.lower() in greeting.lower():\n",
    "            return random.choice(responses)\n",
    "    return 0\n",
    "my_greetings = [\"Hey Bobby\", \"Hello\", \"Hi\", \"How are you\", \"What's up\", \"Can I ask you something?\"]\n",
    "bot_responses = [\"Hello Human\", \"Good day to you\", \"Hi\", \"How are you today\", \"A sunny day today huh?\"]"
   ]
  },
  {
   "cell_type": "code",
   "execution_count": 6,
   "metadata": {
    "id": "KXShrdIybBuM"
   },
   "outputs": [],
   "source": [
    "from sklearn.feature_extraction.text import TfidfVectorizer\n",
    "from sklearn.metrics.pairwise import cosine_similarity\n",
    "\n",
    "def do_calcs(input):\n",
    "    TfidfVec = TfidfVectorizer()\n",
    "    tfidf = TfidfVec.fit_transform(sent_tokens)\n",
    "    vals = cosine_similarity(tfidf[-1], tfidf)\n",
    "    idx = vals.argsort()[0][-2]\n",
    "    flat = vals.flatten()\n",
    "    flat.sort()\n",
    "    req_tfidf = flat[-2]\n",
    "    \n",
    "    response = ''\n",
    "    if(req_tfidf == 0):\n",
    "        response = \"I am sorry, I do not understand what you are asking me.\"\n",
    "        return response\n",
    "    response = sent_tokens[idx]\n",
    "    return response"
   ]
  },
  {
   "cell_type": "code",
   "execution_count": 7,
   "metadata": {
    "id": "T1_6vvwXnEEq"
   },
   "outputs": [],
   "source": [
    "def respond(user_input, word_tokens, sent_tokens):\n",
    "    if(user_input in [\"goodbye thanks\", \"goodbye\", \"bye\", \"thanks\", \"thank you goodbye\", \"thank you\", \"take care\", \"bye bobby\", \"goodbye bobby\"]):\n",
    "        return 0\n",
    "    sent_tokens.append(user_input)\n",
    "    word_tokens = word_tokens + nltk.word_tokenize(user_input)\n",
    "    final_words = list(set(word_tokens))\n",
    "    res = do_calcs(user_input)\n",
    "    sent_tokens.remove(user_input)\n",
    "    return res"
   ]
  },
  {
   "cell_type": "code",
   "execution_count": 9,
   "metadata": {
    "id": "RvZ_cHf_iZF9"
   },
   "outputs": [],
   "source": [
    "import speech_recognition as sr\n",
    "\n",
    "def speech_to_text(audio_path):\n",
    "    r = sr.Recognizer()\n",
    "    with sr.AudioFile(audio_path) as source:\n",
    "        audio = r.record(source)\n",
    "        try:\n",
    "            return r.recognize_google(audio)\n",
    "        except sr.UnknownValueError:\n",
    "            return -1\n",
    "        except sr.RequestError as e:\n",
    "            return -1"
   ]
  },
  {
   "cell_type": "code",
   "execution_count": 10,
   "metadata": {
    "colab": {
     "base_uri": "https://localhost:8080/",
     "height": 341
    },
    "id": "0NM5bPDfoa1u",
    "outputId": "ace174a6-f1dd-4316-9311-344233093b30"
   },
   "outputs": [],
   "source": [
    "def mic_speech_to_text():\n",
    "    r = sr.Recognizer()\n",
    "    with sr.Microphone() as source:\n",
    "        r.adjust_for_ambient_noise(source)\n",
    "        print(\"...\") # to prompt user for input\n",
    "        audio = r.listen(source)\n",
    "        try:\n",
    "            return r.recognize_google(audio)\n",
    "        except sr.UnknownValueError:\n",
    "            return \"xxxxxxxzzzzzz\" # on purpose so that the bot doesnt understand\n",
    "        except sr.RequestError as e:\n",
    "             return \"xxxxxxxzzzzzz\" # on purpose so that the bot doesnt understand"
   ]
  },
  {
   "cell_type": "code",
   "execution_count": 11,
   "metadata": {
    "id": "0zYdtslqloJj"
   },
   "outputs": [],
   "source": [
    "audio_paths = [\"audio-files/hey_bobby.wav\", \"audio-files/what_is_ann.wav\", \"audio-files/thankyou.wav\"]\n",
    "audio_txt = [speech_to_text(audio_path) for audio_path in audio_paths]"
   ]
  },
  {
   "cell_type": "code",
   "execution_count": 15,
   "metadata": {},
   "outputs": [
    {
     "name": "stderr",
     "output_type": "stream",
     "text": [
      "playsound is relying on a python 2 subprocess. Please use `pip3 install PyObjC` if you want playsound to run more efficiently.\n"
     ]
    }
   ],
   "source": [
    "from gtts import gTTS\n",
    "import os\n",
    "from playsound import playsound\n",
    "\n",
    "def read_output(output):\n",
    "    language = \"en\"\n",
    "    speech = gTTS(text = output, lang = language, slow = False)\n",
    "    speech.save(\"output.mp3\")\n",
    "    playsound(\"output.mp3\")"
   ]
  },
  {
   "cell_type": "code",
   "execution_count": 17,
   "metadata": {
    "colab": {
     "base_uri": "https://localhost:8080/"
    },
    "id": "AwFIpLrTgMMP",
    "outputId": "8ba6b438-ddc0-431a-f937-f1c2c3479b74"
   },
   "outputs": [
    {
     "name": "stdout",
     "output_type": "stream",
     "text": [
      "Hello, my name is Bobbyette Bot! Ask me anything about Artifical Neural Networks!\n",
      "But first please indicate your input device:\n",
      " 0- Keyboard\n",
      " 1- Microphone\n",
      "0\n",
      "\n",
      "\n",
      "Please indicate your output format:\n",
      " 0- Text\n",
      " 1- Text & Sound\n",
      "0\n",
      "Bobbyette: Now ask me anything about Artificial Neural Networks!\n",
      "what are ann\n",
      "Bobbyette: I am sorry, I do not understand what you are asking me.\n",
      "what are artificial neural networks\n",
      "Bobbyette: Artificial neural networks (ANNs), usually simply called neural networks (NNs), are computing systems vaguely inspired by the biological neural networks that constitute animal brains.\n",
      "what is deep learning\n",
      "Bobbyette: === Practical counterexamples ===\n",
      "Analyzing what has been learned by an ANN, is much easier than to analyze what has been learned by a biological neural network.\n"
     ]
    },
    {
     "ename": "KeyboardInterrupt",
     "evalue": "Interrupted by user",
     "output_type": "error",
     "traceback": [
      "\u001b[0;31m---------------------------------------------------------------------------\u001b[0m",
      "\u001b[0;31mKeyboardInterrupt\u001b[0m                         Traceback (most recent call last)",
      "\u001b[0;32m/var/folders/c6/ghr28p5s4j9bt858hxqp5fxr0000gn/T/ipykernel_19311/550279612.py\u001b[0m in \u001b[0;36m<module>\u001b[0;34m\u001b[0m\n\u001b[1;32m     48\u001b[0m         \u001b[0muser_input\u001b[0m \u001b[0;34m=\u001b[0m \u001b[0mmic_speech_to_text\u001b[0m\u001b[0;34m(\u001b[0m\u001b[0;34m)\u001b[0m\u001b[0;34m\u001b[0m\u001b[0;34m\u001b[0m\u001b[0m\n\u001b[1;32m     49\u001b[0m     \u001b[0;32melse\u001b[0m\u001b[0;34m:\u001b[0m\u001b[0;34m\u001b[0m\u001b[0;34m\u001b[0m\u001b[0m\n\u001b[0;32m---> 50\u001b[0;31m         \u001b[0muser_input\u001b[0m \u001b[0;34m=\u001b[0m \u001b[0minput\u001b[0m\u001b[0;34m(\u001b[0m\u001b[0;34m)\u001b[0m\u001b[0;34m\u001b[0m\u001b[0;34m\u001b[0m\u001b[0m\n\u001b[0m\u001b[1;32m     51\u001b[0m \u001b[0;34m\u001b[0m\u001b[0m\n\u001b[1;32m     52\u001b[0m     \u001b[0mbot_greeting\u001b[0m \u001b[0;34m=\u001b[0m \u001b[0mgreet_user\u001b[0m\u001b[0;34m(\u001b[0m\u001b[0muser_input\u001b[0m\u001b[0;34m,\u001b[0m \u001b[0mmy_greetings\u001b[0m\u001b[0;34m,\u001b[0m \u001b[0mbot_responses\u001b[0m\u001b[0;34m)\u001b[0m \u001b[0;31m# assuming multiple greetings during same session\u001b[0m\u001b[0;34m\u001b[0m\u001b[0;34m\u001b[0m\u001b[0m\n",
      "\u001b[0;32m~/Documents/Documents/LAU/LAU Course Materials/Fall 2020/CSC498/Assignments/venv/lib/python3.9/site-packages/ipykernel/kernelbase.py\u001b[0m in \u001b[0;36mraw_input\u001b[0;34m(self, prompt)\u001b[0m\n\u001b[1;32m   1004\u001b[0m                 \u001b[0;34m\"raw_input was called, but this frontend does not support input requests.\"\u001b[0m\u001b[0;34m\u001b[0m\u001b[0;34m\u001b[0m\u001b[0m\n\u001b[1;32m   1005\u001b[0m             )\n\u001b[0;32m-> 1006\u001b[0;31m         return self._input_request(\n\u001b[0m\u001b[1;32m   1007\u001b[0m             \u001b[0mstr\u001b[0m\u001b[0;34m(\u001b[0m\u001b[0mprompt\u001b[0m\u001b[0;34m)\u001b[0m\u001b[0;34m,\u001b[0m\u001b[0;34m\u001b[0m\u001b[0;34m\u001b[0m\u001b[0m\n\u001b[1;32m   1008\u001b[0m             \u001b[0mself\u001b[0m\u001b[0;34m.\u001b[0m\u001b[0m_parent_ident\u001b[0m\u001b[0;34m[\u001b[0m\u001b[0;34m\"shell\"\u001b[0m\u001b[0;34m]\u001b[0m\u001b[0;34m,\u001b[0m\u001b[0;34m\u001b[0m\u001b[0;34m\u001b[0m\u001b[0m\n",
      "\u001b[0;32m~/Documents/Documents/LAU/LAU Course Materials/Fall 2020/CSC498/Assignments/venv/lib/python3.9/site-packages/ipykernel/kernelbase.py\u001b[0m in \u001b[0;36m_input_request\u001b[0;34m(self, prompt, ident, parent, password)\u001b[0m\n\u001b[1;32m   1049\u001b[0m             \u001b[0;32mexcept\u001b[0m \u001b[0mKeyboardInterrupt\u001b[0m\u001b[0;34m:\u001b[0m\u001b[0;34m\u001b[0m\u001b[0;34m\u001b[0m\u001b[0m\n\u001b[1;32m   1050\u001b[0m                 \u001b[0;31m# re-raise KeyboardInterrupt, to truncate traceback\u001b[0m\u001b[0;34m\u001b[0m\u001b[0;34m\u001b[0m\u001b[0m\n\u001b[0;32m-> 1051\u001b[0;31m                 \u001b[0;32mraise\u001b[0m \u001b[0mKeyboardInterrupt\u001b[0m\u001b[0;34m(\u001b[0m\u001b[0;34m\"Interrupted by user\"\u001b[0m\u001b[0;34m)\u001b[0m \u001b[0;32mfrom\u001b[0m \u001b[0;32mNone\u001b[0m\u001b[0;34m\u001b[0m\u001b[0;34m\u001b[0m\u001b[0m\n\u001b[0m\u001b[1;32m   1052\u001b[0m             \u001b[0;32mexcept\u001b[0m \u001b[0mException\u001b[0m\u001b[0;34m:\u001b[0m\u001b[0;34m\u001b[0m\u001b[0;34m\u001b[0m\u001b[0m\n\u001b[1;32m   1053\u001b[0m                 \u001b[0mself\u001b[0m\u001b[0;34m.\u001b[0m\u001b[0mlog\u001b[0m\u001b[0;34m.\u001b[0m\u001b[0mwarning\u001b[0m\u001b[0;34m(\u001b[0m\u001b[0;34m\"Invalid Message:\"\u001b[0m\u001b[0;34m,\u001b[0m \u001b[0mexc_info\u001b[0m\u001b[0;34m=\u001b[0m\u001b[0;32mTrue\u001b[0m\u001b[0;34m)\u001b[0m\u001b[0;34m\u001b[0m\u001b[0;34m\u001b[0m\u001b[0m\n",
      "\u001b[0;31mKeyboardInterrupt\u001b[0m: Interrupted by user"
     ]
    }
   ],
   "source": [
    "print(\"Hello, my name is Bobbyette Bot! Ask me anything about Artifical Neural Networks!\")\n",
    "\n",
    "print(\"But first please indicate your input device:\\n 0- Keyboard\\n 1- Microphone\")\n",
    "input_type = input()\n",
    "\n",
    "print(\"\\n\")\n",
    "\n",
    "print(\"Please indicate your output format:\\n 0- Text\\n 1- Text & Sound\")\n",
    "output_type = input()\n",
    "\n",
    "# greet_user(audio_txt[0], my_greetings, bot_responses) # for transcribed audio\n",
    "# i = 1  # for transcribed audio\n",
    "\n",
    "initial_prompt = \"Now ask me anything about Artificial Neural Networks!\"\n",
    "if(int(output_type) == 1):\n",
    "    read_output(initial_prompt)\n",
    "    print(\"Bobbyette: \" + initial_prompt)\n",
    "else:\n",
    "    print(\"Bobbyette: \" + initial_prompt) # default output is text\n",
    "    \n",
    "if(int(input_type) == 1):\n",
    "    user_input = mic_speech_to_text() \n",
    "else:\n",
    "    user_input = input() # default input device is keyboard\n",
    "\n",
    "dnu_text = \"I am sorry, I do not understand what you are asking me.\"\n",
    "bot_greeting = greet_user(user_input, my_greetings, bot_responses)\n",
    "\n",
    "if(bot_greeting == 0):\n",
    "    if(int(output_type) == 1):\n",
    "        print(\"Bobbyette: \" + dnu_text)\n",
    "        read_output(dnu_text)\n",
    "    else:\n",
    "        print(\"Bobbyette: \" + dnu_text)\n",
    "else:\n",
    "    if(int(output_type) == 1):\n",
    "        print(\"Bobbyette: \" + bot_greeting)\n",
    "        read_output(bot_greeting)\n",
    "    else:\n",
    "        print(\"Bobbyette: \" + bot_greeting)\n",
    "\n",
    "while(1):\n",
    "\n",
    "    # user_input = audio_txt[i] # for transcribed audio\n",
    "    # i += 1 # for transcribed audio\n",
    "    \n",
    "    if(int(input_type) == 1):\n",
    "        user_input = mic_speech_to_text()\n",
    "    else:\n",
    "        user_input = input()\n",
    "        \n",
    "    bot_greeting = greet_user(user_input, my_greetings, bot_responses) # assuming multiple greetings during same session\n",
    "    if(bot_greeting == 0):\n",
    "        bot_response = respond(user_input, word_tokens, sent_tokens)\n",
    "        if(bot_response == 0):\n",
    "            if(int(output_type) == 1):\n",
    "                print(\"Bobbyette: \" + \"Goodbye Human!\")\n",
    "                read_output(\"Goodbye Human!\")\n",
    "            else:\n",
    "                print(\"Bobbyette: \" + \"Goodbye Human!\")\n",
    "            break\n",
    "        else:\n",
    "            if(int(output_type) == 1):\n",
    "                print(\"Bobbyette: \" + bot_response)\n",
    "                read_output(bot_response) \n",
    "            else:\n",
    "                print(\"Bobbyette: \" + bot_response)\n",
    "    else: \n",
    "        if(int(output_type) == 1):\n",
    "            print(\"Bobbyette: \" + bot_greeting)\n",
    "            read_output(bot_greeting)\n",
    "        else:\n",
    "            print(\"Bobbyette: \" + bot_greeting)\n",
    "    "
   ]
  },
  {
   "cell_type": "code",
   "execution_count": null,
   "metadata": {},
   "outputs": [],
   "source": []
  },
  {
   "cell_type": "code",
   "execution_count": null,
   "metadata": {},
   "outputs": [],
   "source": []
  }
 ],
 "metadata": {
  "colab": {
   "name": "A3.ipynb",
   "provenance": []
  },
  "kernelspec": {
   "display_name": "Python 3 (ipykernel)",
   "language": "python",
   "name": "python3"
  },
  "language_info": {
   "codemirror_mode": {
    "name": "ipython",
    "version": 3
   },
   "file_extension": ".py",
   "mimetype": "text/x-python",
   "name": "python",
   "nbconvert_exporter": "python",
   "pygments_lexer": "ipython3",
   "version": "3.9.7"
  }
 },
 "nbformat": 4,
 "nbformat_minor": 1
}
