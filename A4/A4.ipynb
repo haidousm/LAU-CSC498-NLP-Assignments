{
 "cells": [
  {
   "cell_type": "markdown",
   "metadata": {},
   "source": [
    "## Module 1"
   ]
  },
  {
   "cell_type": "code",
   "execution_count": 3,
   "metadata": {},
   "outputs": [],
   "source": [
    "import pandas as pd\n",
    "import numpy as np\n",
    "import regex as re"
   ]
  },
  {
   "cell_type": "code",
   "execution_count": 4,
   "metadata": {},
   "outputs": [],
   "source": [
    "from nltk import word_tokenize\n",
    "from nltk.corpus import stopwords\n",
    "from nltk.tokenize.treebank import TreebankWordDetokenizer\n",
    "\n",
    "def normalize_text(text):\n",
    "    only_alpha_num_regex = re.compile(r\"[^A-Z0-9a-z\\s]\")\n",
    "    stop_words = set(stopwords.words(\"english\"))  \n",
    "    stop_words.add('br')\n",
    "    word_tokens = word_tokenize(text)\n",
    "    \n",
    "    word_tokens = [word for word in word_tokens if not word in stop_words]\n",
    "    word_tokens = [word for word in word_tokens if not only_alpha_num_regex.match(word)]\n",
    "    word_tokens = [word.lower() for word in word_tokens]\n",
    "    text = TreebankWordDetokenizer().detokenize(word_tokens)\n",
    "    return text"
   ]
  },
  {
   "cell_type": "code",
   "execution_count": 5,
   "metadata": {},
   "outputs": [],
   "source": [
    "data_set = pd.read_csv(\"movie_reviews.csv\")\n",
    "data_set_column_names = list(data_set.columns)\n",
    "data_set_normalized = pd.DataFrame()\n",
    "for column_name in data_set_column_names:\n",
    "    data_set_normalized[column_name] = data_set.apply(lambda row: normalize_text(row[column_name]), axis=1)"
   ]
  },
  {
   "cell_type": "markdown",
   "metadata": {},
   "source": [
    "## Module 2"
   ]
  },
  {
   "cell_type": "code",
   "execution_count": 7,
   "metadata": {},
   "outputs": [],
   "source": [
    "from sklearn.feature_extraction.text import TfidfVectorizer \n",
    "tfidf_vectorizer = TfidfVectorizer(use_idf=True) \n",
    "reviews_vectorized_text = tfidf_vectorizer.fit_transform(data_set_normalized[\"review\"])"
   ]
  },
  {
   "cell_type": "code",
   "execution_count": 8,
   "metadata": {},
   "outputs": [],
   "source": [
    "def display_data(vectorizer, tfidf_res):\n",
    "    data_frames = []\n",
    "    for vector in tfidf_res:\n",
    "        df = pd.DataFrame(vector.T.todense(), index=vectorizer.get_feature_names(), columns=[\"tfidf score\"])\n",
    "        data_frames.append(df)\n",
    "    return pd.concat(data_frames)"
   ]
  },
  {
   "cell_type": "code",
   "execution_count": 6,
   "metadata": {},
   "outputs": [
    {
     "data": {
      "text/html": [
       "<div>\n",
       "<style scoped>\n",
       "    .dataframe tbody tr th:only-of-type {\n",
       "        vertical-align: middle;\n",
       "    }\n",
       "\n",
       "    .dataframe tbody tr th {\n",
       "        vertical-align: top;\n",
       "    }\n",
       "\n",
       "    .dataframe thead th {\n",
       "        text-align: right;\n",
       "    }\n",
       "</style>\n",
       "<table border=\"1\" class=\"dataframe\">\n",
       "  <thead>\n",
       "    <tr style=\"text-align: right;\">\n",
       "      <th></th>\n",
       "      <th>tfidf score</th>\n",
       "    </tr>\n",
       "  </thead>\n",
       "  <tbody>\n",
       "    <tr>\n",
       "      <th>jimmy</th>\n",
       "      <td>0.687814</td>\n",
       "    </tr>\n",
       "    <tr>\n",
       "      <th>mario</th>\n",
       "      <td>0.684188</td>\n",
       "    </tr>\n",
       "    <tr>\n",
       "      <th>dutcher</th>\n",
       "      <td>0.622986</td>\n",
       "    </tr>\n",
       "    <tr>\n",
       "      <th>musical</th>\n",
       "      <td>0.614340</td>\n",
       "    </tr>\n",
       "    <tr>\n",
       "      <th>wait</th>\n",
       "      <td>0.601913</td>\n",
       "    </tr>\n",
       "    <tr>\n",
       "      <th>...</th>\n",
       "      <td>...</td>\n",
       "    </tr>\n",
       "    <tr>\n",
       "      <th>froides</th>\n",
       "      <td>0.000000</td>\n",
       "    </tr>\n",
       "    <tr>\n",
       "      <th>froing</th>\n",
       "      <td>0.000000</td>\n",
       "    </tr>\n",
       "    <tr>\n",
       "      <th>frokost</th>\n",
       "      <td>0.000000</td>\n",
       "    </tr>\n",
       "    <tr>\n",
       "      <th>frolic</th>\n",
       "      <td>0.000000</td>\n",
       "    </tr>\n",
       "    <tr>\n",
       "      <th>żmijewski</th>\n",
       "      <td>0.000000</td>\n",
       "    </tr>\n",
       "  </tbody>\n",
       "</table>\n",
       "<p>10827600 rows × 1 columns</p>\n",
       "</div>"
      ],
      "text/plain": [
       "           tfidf score\n",
       "jimmy         0.687814\n",
       "mario         0.684188\n",
       "dutcher       0.622986\n",
       "musical       0.614340\n",
       "wait          0.601913\n",
       "...                ...\n",
       "froides       0.000000\n",
       "froing        0.000000\n",
       "frokost       0.000000\n",
       "frolic        0.000000\n",
       "żmijewski     0.000000\n",
       "\n",
       "[10827600 rows x 1 columns]"
      ]
     },
     "execution_count": 6,
     "metadata": {},
     "output_type": "execute_result"
    }
   ],
   "source": [
    "df_idf = display_data(tfidf_vectorizer, reviews_vectorized_text[:100])\n",
    "df_idf.sort_values(by=[\"tfidf score\"],ascending=False)"
   ]
  },
  {
   "cell_type": "code",
   "execution_count": 9,
   "metadata": {},
   "outputs": [],
   "source": [
    "from sklearn.preprocessing import StandardScaler\n",
    "sc = StandardScaler(with_mean=False)\n",
    "reviews_standardized = sc.fit_transform(reviews_vectorized_text)"
   ]
  },
  {
   "cell_type": "code",
   "execution_count": 10,
   "metadata": {},
   "outputs": [],
   "source": [
    "from sklearn.naive_bayes import MultinomialNB\n",
    "from sklearn import metrics"
   ]
  },
  {
   "cell_type": "code",
   "execution_count": 11,
   "metadata": {},
   "outputs": [],
   "source": [
    "from sklearn.model_selection import train_test_split\n",
    "sentiments = [1 if row[1] == \"positive\" else 0 for row in  data_set_normalized[[\"sentiment\"]].itertuples()]"
   ]
  },
  {
   "cell_type": "code",
   "execution_count": 12,
   "metadata": {},
   "outputs": [],
   "source": [
    "from sklearn.model_selection import train_test_split\n",
    "x_train, x_test, y_train, y_test = train_test_split(reviews_standardized, sentiments, test_size=0.2) # 80% training - 20% testing"
   ]
  },
  {
   "cell_type": "code",
   "execution_count": 13,
   "metadata": {},
   "outputs": [
    {
     "data": {
      "text/plain": [
       "MultinomialNB()"
      ]
     },
     "execution_count": 13,
     "metadata": {},
     "output_type": "execute_result"
    }
   ],
   "source": [
    "naive_bayes_classifier = MultinomialNB()\n",
    "naive_bayes_classifier.fit(x_train, y_train)"
   ]
  },
  {
   "cell_type": "code",
   "execution_count": 14,
   "metadata": {},
   "outputs": [
    {
     "name": "stdout",
     "output_type": "stream",
     "text": [
      "accuracy:   0.753\n"
     ]
    }
   ],
   "source": [
    "y_pred = naive_bayes_classifier.predict(x_test)\n",
    "\n",
    "score = metrics.accuracy_score(y_test, y_pred)\n",
    "print(\"accuracy:   %0.3f\" % score)\n",
    "cm = metrics.confusion_matrix(y_test, y_pred)"
   ]
  },
  {
   "cell_type": "code",
   "execution_count": 16,
   "metadata": {},
   "outputs": [
    {
     "data": {
      "image/png": "[encoded data removed]",
      "text/plain": [
       "<Figure size 432x288 with 2 Axes>"
      ]
     },
     "metadata": {
      "needs_background": "light"
     },
     "output_type": "display_data"
    }
   ],
   "source": [
    "import seaborn as sn\n",
    "cmap = sn.cubehelix_palette(light=1, as_cmap=True)\n",
    "res = sn.heatmap(cm, annot=True, vmin=0.0, vmax=5000.0, fmt='.2f', cmap=cmap)"
   ]
  },
  {
   "cell_type": "markdown",
   "metadata": {},
   "source": [
    "## Module 3"
   ]
  },
  {
   "cell_type": "code",
   "execution_count": 17,
   "metadata": {},
   "outputs": [],
   "source": [
    "features = [\"title\", \"sentiment\", \"genre\",]\n",
    "sent_genre_df = pd.DataFrame()\n",
    "for feature in features:\n",
    "    sent_genre_df[feature] = data_set_normalized[feature].fillna(\"\")"
   ]
  },
  {
   "cell_type": "code",
   "execution_count": 18,
   "metadata": {},
   "outputs": [],
   "source": [
    "sent_genre_df[\"sent_genre\"] = sent_genre_df[\"sentiment\"] + \" \" + sent_genre_df[\"genre\"]"
   ]
  },
  {
   "cell_type": "code",
   "execution_count": 19,
   "metadata": {},
   "outputs": [
    {
     "data": {
      "text/html": [
       "<div>\n",
       "<style scoped>\n",
       "    .dataframe tbody tr th:only-of-type {\n",
       "        vertical-align: middle;\n",
       "    }\n",
       "\n",
       "    .dataframe tbody tr th {\n",
       "        vertical-align: top;\n",
       "    }\n",
       "\n",
       "    .dataframe thead th {\n",
       "        text-align: right;\n",
       "    }\n",
       "</style>\n",
       "<table border=\"1\" class=\"dataframe\">\n",
       "  <thead>\n",
       "    <tr style=\"text-align: right;\">\n",
       "      <th></th>\n",
       "      <th>title</th>\n",
       "      <th>sentiment</th>\n",
       "      <th>genre</th>\n",
       "      <th>sent_genre</th>\n",
       "    </tr>\n",
       "  </thead>\n",
       "  <tbody>\n",
       "    <tr>\n",
       "      <th>0</th>\n",
       "      <td>miss jerry</td>\n",
       "      <td>positive</td>\n",
       "      <td>romance</td>\n",
       "      <td>positive romance</td>\n",
       "    </tr>\n",
       "    <tr>\n",
       "      <th>1</th>\n",
       "      <td>the story kelly gang</td>\n",
       "      <td>positive</td>\n",
       "      <td>biography crime drama</td>\n",
       "      <td>positive biography crime drama</td>\n",
       "    </tr>\n",
       "    <tr>\n",
       "      <th>2</th>\n",
       "      <td>den sorte drøm</td>\n",
       "      <td>positive</td>\n",
       "      <td>drama</td>\n",
       "      <td>positive drama</td>\n",
       "    </tr>\n",
       "    <tr>\n",
       "      <th>3</th>\n",
       "      <td>cleopatra</td>\n",
       "      <td>negative</td>\n",
       "      <td>drama history</td>\n",
       "      <td>negative drama history</td>\n",
       "    </tr>\n",
       "    <tr>\n",
       "      <th>4</th>\n",
       "      <td>l'inferno</td>\n",
       "      <td>positive</td>\n",
       "      <td>adventure drama fantasy</td>\n",
       "      <td>positive adventure drama fantasy</td>\n",
       "    </tr>\n",
       "    <tr>\n",
       "      <th>5</th>\n",
       "      <td>from manger cross jesus nazareth</td>\n",
       "      <td>positive</td>\n",
       "      <td>biography drama</td>\n",
       "      <td>positive biography drama</td>\n",
       "    </tr>\n",
       "    <tr>\n",
       "      <th>6</th>\n",
       "      <td>madame dubarry</td>\n",
       "      <td>positive</td>\n",
       "      <td>biography drama romance</td>\n",
       "      <td>positive biography drama romance</td>\n",
       "    </tr>\n",
       "    <tr>\n",
       "      <th>7</th>\n",
       "      <td>quo vadis</td>\n",
       "      <td>negative</td>\n",
       "      <td>drama history</td>\n",
       "      <td>negative drama history</td>\n",
       "    </tr>\n",
       "    <tr>\n",
       "      <th>8</th>\n",
       "      <td>independenta romaniei</td>\n",
       "      <td>negative</td>\n",
       "      <td>history war</td>\n",
       "      <td>negative history war</td>\n",
       "    </tr>\n",
       "    <tr>\n",
       "      <th>9</th>\n",
       "      <td>richard iii</td>\n",
       "      <td>positive</td>\n",
       "      <td>drama</td>\n",
       "      <td>positive drama</td>\n",
       "    </tr>\n",
       "  </tbody>\n",
       "</table>\n",
       "</div>"
      ],
      "text/plain": [
       "                              title sentiment                    genre  \\\n",
       "0                        miss jerry  positive                  romance   \n",
       "1              the story kelly gang  positive    biography crime drama   \n",
       "2                    den sorte drøm  positive                    drama   \n",
       "3                         cleopatra  negative            drama history   \n",
       "4                         l'inferno  positive  adventure drama fantasy   \n",
       "5  from manger cross jesus nazareth  positive          biography drama   \n",
       "6                    madame dubarry  positive  biography drama romance   \n",
       "7                         quo vadis  negative            drama history   \n",
       "8             independenta romaniei  negative              history war   \n",
       "9                       richard iii  positive                    drama   \n",
       "\n",
       "                         sent_genre  \n",
       "0                  positive romance  \n",
       "1    positive biography crime drama  \n",
       "2                    positive drama  \n",
       "3            negative drama history  \n",
       "4  positive adventure drama fantasy  \n",
       "5          positive biography drama  \n",
       "6  positive biography drama romance  \n",
       "7            negative drama history  \n",
       "8              negative history war  \n",
       "9                    positive drama  "
      ]
     },
     "execution_count": 19,
     "metadata": {},
     "output_type": "execute_result"
    }
   ],
   "source": [
    "sent_genre_df[:10]"
   ]
  },
  {
   "cell_type": "code",
   "execution_count": 20,
   "metadata": {},
   "outputs": [],
   "source": [
    "tfidf_vectorizer = TfidfVectorizer(use_idf=True) \n",
    "sent_genre_vectorized_text = tfidf_vectorizer.fit_transform(sent_genre_df[\"sent_genre\"])"
   ]
  },
  {
   "cell_type": "code",
   "execution_count": 21,
   "metadata": {},
   "outputs": [],
   "source": [
    "sc = StandardScaler(with_mean=False)\n",
    "sent_genre_standardized = sc.fit_transform(sent_genre_vectorized_text)"
   ]
  },
  {
   "cell_type": "code",
   "execution_count": 22,
   "metadata": {},
   "outputs": [],
   "source": [
    "from sklearn.metrics.pairwise import cosine_similarity\n",
    "cosine_sim = cosine_similarity(sent_genre_standardized)"
   ]
  },
  {
   "cell_type": "code",
   "execution_count": 23,
   "metadata": {},
   "outputs": [],
   "source": [
    "def get_index_from_title(title):\n",
    "    index = sent_genre_df[sent_genre_df.title == title].index\n",
    "    return index.values[0] if len(index) > 0 else -1\n",
    "\n",
    "def get_title_from_index(index):\n",
    "    return sent_genre_df[sent_genre_df.index == index][\"title\"].values[0]\n",
    "\n",
    "def get_10_similar_movie_titles(similar_movie_indices):\n",
    "    i = 0\n",
    "    for similar_movie_index in similar_movie_indices:\n",
    "        print(get_title_from_index(similar_movie_index[0]).title())\n",
    "        i = i + 1\n",
    "        if(i == 10):\n",
    "            return"
   ]
  },
  {
   "cell_type": "code",
   "execution_count": 21,
   "metadata": {},
   "outputs": [
    {
     "name": "stdout",
     "output_type": "stream",
     "text": [
      "Enter Movie Title\n",
      "miss jerry\n",
      "Das Wandernde Bild\n",
      "The Bride Play\n",
      "I Met My Love Again\n",
      "Katariina Ja Munkkiniemen Kreivi\n",
      "Blaze Starr Goes Nudist\n",
      "Tri Topolya Na Plyushchikhe\n",
      "Tredowata\n",
      "Kogda Ya Stanu Velikanom\n",
      "Sadma\n",
      "En Film Om Kärlek\n"
     ]
    }
   ],
   "source": [
    "print(\"Enter Movie Title\")\n",
    "user_input = input()\n",
    "movie_index = get_index_from_title(user_input.lower())\n",
    "if(movie_index < 0):\n",
    "    print(\"Sorry, movie does not exist in our database.\")\n",
    "else:\n",
    "    similar_movie_indices = list(enumerate(cosine_sim[movie_index]))\n",
    "    sorted_similar_movie_indices = sorted(similar_movie_indices, key=lambda x:x[1], reverse=True)\n",
    "    get_10_similar_movie_titles(sorted_similar_movie_indices[1:])"
   ]
  },
  {
   "cell_type": "code",
   "execution_count": null,
   "metadata": {},
   "outputs": [
    {
     "name": "stdout",
     "output_type": "stream",
     "text": [
      "Enter Movie Title\n"
     ]
    }
   ],
   "source": [
    "print(\"Enter Movie Title\")\n",
    "user_input = input()\n",
    "movie_index = get_index_from_title(user_input.lower())\n",
    "if(movie_index < 0):\n",
    "    print(\"Sorry, movie does not exist in our database.\")\n",
    "else:\n",
    "    similar_movie_indices = list(enumerate(cosine_sim[movie_index]))\n",
    "    sorted_similar_movie_indices = sorted(similar_movie_indices, key=lambda x:x[1], reverse=True)\n",
    "    get_10_similar_movie_titles(sorted_similar_movie_indices[1:])"
   ]
  },
  {
   "cell_type": "code",
   "execution_count": null,
   "metadata": {},
   "outputs": [],
   "source": []
  }
 ],
 "metadata": {
  "kernelspec": {
   "display_name": "venv",
   "language": "python",
   "name": "venv"
  },
  "language_info": {
   "codemirror_mode": {
    "name": "ipython",
    "version": 3
   },
   "file_extension": ".py",
   "mimetype": "text/x-python",
   "name": "python",
   "nbconvert_exporter": "python",
   "pygments_lexer": "ipython3",
   "version": "3.9.7"
  }
 },
 "nbformat": 4,
 "nbformat_minor": 4
}
