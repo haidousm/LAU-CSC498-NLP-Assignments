{
 "cells": [
  {
   "cell_type": "markdown",
   "metadata": {},
   "source": [
    "The set of all strings from the alphabet {a, b} such that each a is immediately preceded by and immediately followed by a b."
   ]
  },
  {
   "cell_type": "code",
   "execution_count": 2,
   "metadata": {},
   "outputs": [],
   "source": [
    "import re"
   ]
  },
  {
   "cell_type": "code",
   "execution_count": 8,
   "metadata": {},
   "outputs": [],
   "source": [
    "testText = \"one two onetwo three\""
   ]
  },
  {
   "cell_type": "code",
   "execution_count": 9,
   "metadata": {},
   "outputs": [
    {
     "data": {
      "text/plain": [
       "['one', 'two', 'three']"
      ]
     },
     "execution_count": 9,
     "metadata": {},
     "output_type": "execute_result"
    }
   ],
   "source": [
    "re.findall(r\"\\b(one|two|three)\\b\", testText)"
   ]
  },
  {
   "cell_type": "markdown",
   "metadata": {},
   "source": [
    "Write a Python program to remove lowercase substrings from a given string. Test it on string: “KDeoBNBklvVHuipfLLaeioU”."
   ]
  },
  {
   "cell_type": "code",
   "execution_count": 4,
   "metadata": {},
   "outputs": [],
   "source": [
    "testText = \"KDeoBNBklvVHuipfLLaeioU\"\n",
    "re.sub(r\"[a-z]+\", \"\", testText)"
   ]
  },
  {
   "cell_type": "markdown",
   "metadata": {},
   "source": [
    "Match a string of any length and any character."
   ]
  },
  {
   "cell_type": "code",
   "execution_count": 5,
   "metadata": {},
   "outputs": [],
   "source": [
    "re.match(r\".\", testText)"
   ]
  },
  {
   "cell_type": "markdown",
   "metadata": {},
   "source": [
    "The set of consecutive repeated words, such as “ciao ciao sigñorina” or “so very very\n",
    "far away”:<br>\n",
    "    i. After matching consecutive repeated words, remove the duplicate word (i.e.\n",
    "occurring second). To this end, you may use the substitution function of the re package. The function’s prototype is:<br>\n",
    "        1. re.sub(pattern, repl, string) where pattern is the string to replace, repl is the replacement string, and string is the sample sentence you’re searching in."
   ]
  },
  {
   "cell_type": "code",
   "execution_count": 20,
   "metadata": {},
   "outputs": [
    {
     "data": {
      "text/plain": [
       "'ciao sigñorina'"
      ]
     },
     "execution_count": 20,
     "metadata": {},
     "output_type": "execute_result"
    }
   ],
   "source": [
    "testText = \"ciao ciao sigñorina\"\n",
    "re.sub(r\"\\b(\\w+)( \\1\\b)+\", r\"\\1\", testText)"
   ]
  },
  {
   "cell_type": "markdown",
   "metadata": {},
   "source": [
    "To search the numbers (0-9) of length between 1 to 3 in a given string. Test it on the string: “Busy people fact: 2, 8, 27, 34, 090, 828. You were too busy to read that number.”"
   ]
  },
  {
   "cell_type": "code",
   "execution_count": 21,
   "metadata": {},
   "outputs": [],
   "source": [
    "testText = \"Busy people fact: 2, 8, 27, 34, 090, 828, 4000. You were too busy to read that number.\""
   ]
  },
  {
   "cell_type": "code",
   "execution_count": 22,
   "metadata": {},
   "outputs": [
    {
     "data": {
      "text/plain": [
       "['2', '8', '27', '34', '828']"
      ]
     },
     "execution_count": 22,
     "metadata": {},
     "output_type": "execute_result"
    }
   ],
   "source": [
    "re.findall(r\"(?<!\\d)([1-9]+[0-9]?){1,3}(?!\\d)\", testText)"
   ]
  },
  {
   "cell_type": "markdown",
   "metadata": {},
   "source": [
    "Repeat question (d) using re.compile."
   ]
  },
  {
   "cell_type": "code",
   "execution_count": 9,
   "metadata": {},
   "outputs": [],
   "source": [
    "testText = \"so very very far away\"\n",
    "reg = re.compile(r\"\\b(\\w+)( \\1\\b)+\")\n",
    "reg.sub(r\"\\1\", testText)"
   ]
  },
  {
   "cell_type": "markdown",
   "metadata": {},
   "source": [
    "Write a Python regex that matches a word at the end of a string, with optional punctuation. Test it on the following two sample sequences:<br>\n",
    "“If one is lucky, a solitary fantasy can totally transform one million realities.”<br>\n",
    "“If one is lucky, a solitary fantasy can totally transform one million realities. ”"
   ]
  },
  {
   "cell_type": "code",
   "execution_count": 10,
   "metadata": {},
   "outputs": [],
   "source": [
    "testText = \"If one is lucky, a solitary fantasy can totally transform one million realities.\"\n",
    "if(re.search(\"\\w+\\S*$\",  testText)):\n",
    "    print(\"Found!\")\n",
    "else:\n",
    "    print(\"Not Found :(\")"
   ]
  },
  {
   "cell_type": "code",
   "execution_count": 11,
   "metadata": {
    "scrolled": true
   },
   "outputs": [],
   "source": [
    "testText = \"If one is lucky, a solitary fantasy can totally transform one million realities. \"\n",
    "if(re.search(\"\\w+\\S*$\",  testText)):\n",
    "    print(\"Found!\")\n",
    "else:\n",
    "    print(\"Not Found :(\")"
   ]
  },
  {
   "cell_type": "markdown",
   "metadata": {},
   "source": [
    "Write a function to convert a date format from: yyyy-mm-dd to dd-mm-yyyy."
   ]
  },
  {
   "cell_type": "code",
   "execution_count": 12,
   "metadata": {},
   "outputs": [],
   "source": [
    "testText = \"2001-10-09\"\n",
    "def conv(text):\n",
    "    return re.sub(r\"(\\d{4})-(\\d{1,2})-(\\d{1,2})\", \"\\\\3-\\\\2-\\\\1\", text)\n",
    "testText = conv(testText)\n",
    "print(testText)"
   ]
  },
  {
   "cell_type": "markdown",
   "metadata": {},
   "source": [
    "Write a regex to remove words in a string, having length between 1 and 3. Test it on\n",
    "the following sentence: “The black horse neighs to the fearful fox.”"
   ]
  },
  {
   "cell_type": "code",
   "execution_count": 13,
   "metadata": {},
   "outputs": [],
   "source": [
    "testText = \"The black horse neighs to the fearful fox.\"\n",
    "re.sub(r\"(?<!\\w)\\w{1,3}(?!\\w)\", \"\", testText)"
   ]
  },
  {
   "cell_type": "markdown",
   "metadata": {},
   "source": [
    "Write a regex to remove all whitespaces from a string."
   ]
  },
  {
   "cell_type": "code",
   "execution_count": 14,
   "metadata": {},
   "outputs": [
    {
     "data": {
      "text/plain": [
       "'abcdefghijklmnopqrstuvwxyz'"
      ]
     },
     "execution_count": 14,
     "metadata": {},
     "output_type": "execute_result"
    }
   ],
   "source": [
    "testText = \"a  b c d e f g h i j k l m n o p q r s t u v w x y z \"\n",
    "re.sub(r\"\\s\", \"\", testText)"
   ]
  },
  {
   "cell_type": "markdown",
   "metadata": {},
   "source": [
    "Compare the similarity of the two verbs: “remain” and “prevail”.<br>\n",
    "i. Provide a definition to each.<br>\n",
    "ii. Measure the similarity between the two.<br>"
   ]
  },
  {
   "cell_type": "code",
   "execution_count": 23,
   "metadata": {},
   "outputs": [],
   "source": [
    "from nltk.corpus import wordnet"
   ]
  },
  {
   "cell_type": "code",
   "execution_count": 24,
   "metadata": {},
   "outputs": [],
   "source": [
    "syn1 = wordnet.synsets(\"remain\")\n",
    "syn2 = wordnet.synsets(\"prevail\")"
   ]
  },
  {
   "cell_type": "code",
   "execution_count": 25,
   "metadata": {},
   "outputs": [
    {
     "name": "stdout",
     "output_type": "stream",
     "text": [
      "stay the same; remain in a certain state\n",
      "be larger in number, quantity, power, status or importance\n"
     ]
    }
   ],
   "source": [
    "print(syn1[0].definition())\n",
    "print(syn2[0].definition())"
   ]
  },
  {
   "cell_type": "code",
   "execution_count": 18,
   "metadata": {},
   "outputs": [],
   "source": [
    "syn1 = wordnet.synset(\"remain.v.01\")\n",
    "syn2 = wordnet.synset(\"prevail.v.01\")"
   ]
  },
  {
   "cell_type": "code",
   "execution_count": 19,
   "metadata": {},
   "outputs": [
    {
     "data": {
      "text/plain": [
       "0.4"
      ]
     },
     "execution_count": 19,
     "metadata": {},
     "output_type": "execute_result"
    }
   ],
   "source": [
    "syn1.wup_similarity(syn2)"
   ]
  }
 ],
 "metadata": {
  "kernelspec": {
   "display_name": "env",
   "language": "python",
   "name": "env"
  },
  "language_info": {
   "codemirror_mode": {
    "name": "ipython",
    "version": 3
   },
   "file_extension": ".py",
   "mimetype": "text/x-python",
   "name": "python",
   "nbconvert_exporter": "python",
   "pygments_lexer": "ipython3",
   "version": "3.8.6"
  }
 },
 "nbformat": 4,
 "nbformat_minor": 4
}
