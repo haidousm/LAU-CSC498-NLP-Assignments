{
 "cells": [
  {
   "cell_type": "code",
   "execution_count": 1,
   "metadata": {},
   "outputs": [],
   "source": [
    "import nltk\n",
    "from nltk import sent_tokenize, word_tokenize"
   ]
  },
  {
   "cell_type": "code",
   "execution_count": 2,
   "metadata": {},
   "outputs": [],
   "source": [
    "sent_1 = \"My aunt's can opener can open a drum\"\n",
    "sent_2 = \"My neighbors' die remains when they die\"\n",
    "sent_3 = \"What I mean is that being mean is not finesse\"\n",
    "sent_4 = \"The dogs bark at the tree's bark\""
   ]
  },
  {
   "cell_type": "markdown",
   "metadata": {},
   "source": [
    "### Tokenize all sentences"
   ]
  },
  {
   "cell_type": "code",
   "execution_count": 3,
   "metadata": {},
   "outputs": [],
   "source": [
    "tokenized_sent_1 = word_tokenize(sent_1)\n",
    "tokenized_sent_2 = word_tokenize(sent_2)\n",
    "tokenized_sent_3 = word_tokenize(sent_3)\n",
    "tokenized_sent_4 = word_tokenize(sent_4)"
   ]
  },
  {
   "cell_type": "markdown",
   "metadata": {},
   "source": [
    "### Begin tagging each sentence and manually correcting the tags"
   ]
  },
  {
   "cell_type": "code",
   "execution_count": 4,
   "metadata": {},
   "outputs": [
    {
     "data": {
      "text/plain": [
       "[('My', 'PRP$'),\n",
       " ('aunt', 'NN'),\n",
       " (\"'s\", 'POS'),\n",
       " ('can', 'NN'),\n",
       " ('opener', 'NN'),\n",
       " ('can', 'MD'),\n",
       " ('open', 'VB'),\n",
       " ('a', 'DT'),\n",
       " ('drum', 'NN')]"
      ]
     },
     "execution_count": 4,
     "metadata": {},
     "output_type": "execute_result"
    }
   ],
   "source": [
    "tagged_sent_1 = nltk.pos_tag(tokenized_sent_1)\n",
    "tagged_sent_1[3] = ('can', 'NN')\n",
    "tagged_sent_1[4] = ('opener', 'NN')\n",
    "tagged_sent_1"
   ]
  },
  {
   "cell_type": "code",
   "execution_count": 5,
   "metadata": {},
   "outputs": [
    {
     "data": {
      "text/plain": [
       "[('My', 'PRP$'),\n",
       " ('neighbors', 'NNS'),\n",
       " (\"'\", 'POS'),\n",
       " ('die', 'NN'),\n",
       " ('remains', 'VBZ'),\n",
       " ('when', 'WRB'),\n",
       " ('they', 'PRP'),\n",
       " ('die', 'VBP')]"
      ]
     },
     "execution_count": 5,
     "metadata": {},
     "output_type": "execute_result"
    }
   ],
   "source": [
    "tagged_sent_2 = nltk.pos_tag(tokenized_sent_2)\n",
    "tagged_sent_2"
   ]
  },
  {
   "cell_type": "code",
   "execution_count": 6,
   "metadata": {},
   "outputs": [
    {
     "data": {
      "text/plain": [
       "[('What', 'WP'),\n",
       " ('I', 'PRP'),\n",
       " ('mean', 'VBP'),\n",
       " ('is', 'VBZ'),\n",
       " ('that', 'IN'),\n",
       " ('being', 'VBG'),\n",
       " ('mean', 'NN'),\n",
       " ('is', 'VBZ'),\n",
       " ('not', 'RB'),\n",
       " ('finesse', 'NN')]"
      ]
     },
     "execution_count": 6,
     "metadata": {},
     "output_type": "execute_result"
    }
   ],
   "source": [
    "tagged_sent_3 = nltk.pos_tag(tokenized_sent_3)\n",
    "tagged_sent_3[6] = ('mean', 'NN')\n",
    "tagged_sent_3[9] = ('finesse', 'NN')\n",
    "tagged_sent_3"
   ]
  },
  {
   "cell_type": "code",
   "execution_count": 7,
   "metadata": {},
   "outputs": [
    {
     "data": {
      "text/plain": [
       "[('The', 'DT'),\n",
       " ('dogs', 'NNS'),\n",
       " ('bark', 'VBP'),\n",
       " ('at', 'IN'),\n",
       " ('the', 'DT'),\n",
       " ('tree', 'NN'),\n",
       " (\"'s\", 'POS'),\n",
       " ('bark', 'NN')]"
      ]
     },
     "execution_count": 7,
     "metadata": {},
     "output_type": "execute_result"
    }
   ],
   "source": [
    "tagged_sent_4 = nltk.pos_tag(tokenized_sent_4)\n",
    "tagged_sent_4[2] = ('bark', 'VBP')\n",
    "tagged_sent_4"
   ]
  },
  {
   "cell_type": "code",
   "execution_count": null,
   "metadata": {},
   "outputs": [],
   "source": []
  }
 ],
 "metadata": {
  "kernelspec": {
   "display_name": "env",
   "language": "python",
   "name": "env"
  },
  "language_info": {
   "codemirror_mode": {
    "name": "ipython",
    "version": 3
   },
   "file_extension": ".py",
   "mimetype": "text/x-python",
   "name": "python",
   "nbconvert_exporter": "python",
   "pygments_lexer": "ipython3",
   "version": "3.8.6"
  }
 },
 "nbformat": 4,
 "nbformat_minor": 4
}
