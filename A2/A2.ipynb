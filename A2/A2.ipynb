{
 "cells": [
  {
   "cell_type": "code",
   "execution_count": 1,
   "metadata": {},
   "outputs": [],
   "source": [
    "import nltk\n",
    "from nltk import sent_tokenize, word_tokenize"
   ]
  },
  {
   "cell_type": "code",
   "execution_count": 2,
   "metadata": {},
   "outputs": [],
   "source": [
    "sent_1 = \"My aunt's can opener can open a drum\"\n",
    "sent_2 = \"My neighbors' die remains when they die\"\n",
    "sent_3 = \"What I mean is that being mean is not finesse\"\n",
    "sent_4 = \"The dogs bark at the tree's bark\""
   ]
  },
  {
   "cell_type": "markdown",
   "metadata": {},
   "source": [
    "### Tokenize all sentences"
   ]
  },
  {
   "cell_type": "code",
   "execution_count": 3,
   "metadata": {},
   "outputs": [],
   "source": [
    "tokenized_sent_1 = word_tokenize(sent_1)\n",
    "tokenized_sent_2 = word_tokenize(sent_2)\n",
    "tokenized_sent_3 = word_tokenize(sent_3)\n",
    "tokenized_sent_4 = word_tokenize(sent_4)"
   ]
  },
  {
   "cell_type": "markdown",
   "metadata": {},
   "source": [
    "### Begin tagging each sentence and manually correcting the tags"
   ]
  },
  {
   "cell_type": "code",
   "execution_count": 4,
   "metadata": {},
   "outputs": [
    {
     "data": {
      "text/plain": [
       "[('My', 'PRP$'),\n",
       " ('aunt', 'NN'),\n",
       " (\"'s\", 'POS'),\n",
       " ('can', 'NN'),\n",
       " ('opener', 'NN'),\n",
       " ('can', 'MD'),\n",
       " ('open', 'VB'),\n",
       " ('a', 'DT'),\n",
       " ('drum', 'NN')]"
      ]
     },
     "execution_count": 4,
     "metadata": {},
     "output_type": "execute_result"
    }
   ],
   "source": [
    "tagged_sent_1 = nltk.pos_tag(tokenized_sent_1)\n",
    "tagged_sent_1[3] = ('can', 'NN')\n",
    "tagged_sent_1[4] = ('opener', 'NN')\n",
    "tagged_sent_1"
   ]
  },
  {
   "cell_type": "code",
   "execution_count": 5,
   "metadata": {},
   "outputs": [
    {
     "data": {
      "text/plain": [
       "[('My', 'PRP$'),\n",
       " ('neighbors', 'NNS'),\n",
       " (\"'\", 'POS'),\n",
       " ('die', 'NN'),\n",
       " ('remains', 'VBZ'),\n",
       " ('when', 'WRB'),\n",
       " ('they', 'PRP'),\n",
       " ('die', 'VBP')]"
      ]
     },
     "execution_count": 5,
     "metadata": {},
     "output_type": "execute_result"
    }
   ],
   "source": [
    "tagged_sent_2 = nltk.pos_tag(tokenized_sent_2)\n",
    "tagged_sent_2"
   ]
  },
  {
   "cell_type": "code",
   "execution_count": 6,
   "metadata": {},
   "outputs": [
    {
     "data": {
      "text/plain": [
       "[('What', 'WP'),\n",
       " ('I', 'PRP'),\n",
       " ('mean', 'VBP'),\n",
       " ('is', 'VBZ'),\n",
       " ('that', 'IN'),\n",
       " ('being', 'VBG'),\n",
       " ('mean', 'NN'),\n",
       " ('is', 'VBZ'),\n",
       " ('not', 'RB'),\n",
       " ('finesse', 'NN')]"
      ]
     },
     "execution_count": 6,
     "metadata": {},
     "output_type": "execute_result"
    }
   ],
   "source": [
    "tagged_sent_3 = nltk.pos_tag(tokenized_sent_3)\n",
    "tagged_sent_3[6] = ('mean', 'NN')\n",
    "tagged_sent_3[9] = ('finesse', 'NN')\n",
    "tagged_sent_3"
   ]
  },
  {
   "cell_type": "code",
   "execution_count": 7,
   "metadata": {},
   "outputs": [
    {
     "data": {
      "text/plain": [
       "[('The', 'DT'),\n",
       " ('dogs', 'NNS'),\n",
       " ('bark', 'VBP'),\n",
       " ('at', 'IN'),\n",
       " ('the', 'DT'),\n",
       " ('tree', 'NN'),\n",
       " (\"'s\", 'POS'),\n",
       " ('bark', 'NN')]"
      ]
     },
     "execution_count": 7,
     "metadata": {},
     "output_type": "execute_result"
    }
   ],
   "source": [
    "tagged_sent_4 = nltk.pos_tag(tokenized_sent_4)\n",
    "tagged_sent_4[2] = ('bark', 'VBP')\n",
    "tagged_sent_4"
   ]
  },
  {
   "cell_type": "markdown",
   "metadata": {},
   "source": [
    "### Combine all tagged words into a single set"
   ]
  },
  {
   "cell_type": "code",
   "execution_count": 8,
   "metadata": {},
   "outputs": [],
   "source": [
    "train_set = [tagged_sent_1, tagged_sent_2, tagged_sent_3, tagged_sent_4]"
   ]
  },
  {
   "cell_type": "markdown",
   "metadata": {},
   "source": [
    "### Create a new PerceptronTagger (it is what nltk.pos_tag uses) but do not load the pretrained model"
   ]
  },
  {
   "cell_type": "code",
   "execution_count": 9,
   "metadata": {},
   "outputs": [],
   "source": [
    "default_tagger = nltk.PerceptronTagger(load=False)"
   ]
  },
  {
   "cell_type": "markdown",
   "metadata": {},
   "source": [
    "### Train new model on our modified trainset"
   ]
  },
  {
   "cell_type": "code",
   "execution_count": 10,
   "metadata": {},
   "outputs": [],
   "source": [
    "default_tagger.train(train_set)"
   ]
  },
  {
   "cell_type": "markdown",
   "metadata": {},
   "source": [
    "### It obviously is 100% accurate if tested on the trainset, the model is very bad because of the small number of data points"
   ]
  },
  {
   "cell_type": "code",
   "execution_count": 11,
   "metadata": {},
   "outputs": [
    {
     "data": {
      "text/plain": [
       "[('My', 'PRP$'),\n",
       " ('aunt', 'NN'),\n",
       " (\"'s\", 'POS'),\n",
       " ('can', 'NN'),\n",
       " ('opener', 'NN'),\n",
       " ('can', 'MD'),\n",
       " ('open', 'VB'),\n",
       " ('a', 'DT'),\n",
       " ('drum', 'NN')]"
      ]
     },
     "execution_count": 11,
     "metadata": {},
     "output_type": "execute_result"
    }
   ],
   "source": [
    "default_tagger.tag(tokenized_sent_1)"
   ]
  },
  {
   "cell_type": "markdown",
   "metadata": {},
   "source": [
    "#### I tried adding a \"backoff\" model to the PerceptronTagger but was not able to for whatever reason, a backoff tagger would have been useful because of the small number of data points. I was able to set a backoff model to different taggers such as a Unigram and a Bigram tagger, but chose not to since that is not what you asked us to use. "
   ]
  },
  {
   "cell_type": "markdown",
   "metadata": {},
   "source": [
    "#### I also played around with the Regexp a ton, could not a reach a useful result. I was hoping to do a lookbehind using the Regexp tagger for occurences such as \"aunt's can\" where any word that follows \"'s\" is probably a noun. However, I was not able to since the Regexp tagger takes tokenized sentences in and was dealing with unigrams instead of bigrams. I was also able to use the Regexp tagger as \"backoff\" tagger for Unigram and Bigram taggers, but yet again, that is not what you asked us to use. I was unsure on how to use the Regexp tagger to fix the ambiguity the default pos_tagger was causing, since any regex pattern to fix the \"can/MD\" error in sentence 1 for example would have broken the correct \"can/MD\""
   ]
  },
  {
   "cell_type": "markdown",
   "metadata": {},
   "source": [
    "#### Although I was not able to deliver on what you exactly required, I really tried to figure it out and researched a lot. I finished this assignment knowing a ton more than when I first started it, however, I'd still love to know what you exactly expected us to do."
   ]
  },
  {
   "cell_type": "code",
   "execution_count": null,
   "metadata": {},
   "outputs": [],
   "source": []
  }
 ],
 "metadata": {
  "kernelspec": {
   "display_name": "env",
   "language": "python",
   "name": "env"
  },
  "language_info": {
   "codemirror_mode": {
    "name": "ipython",
    "version": 3
   },
   "file_extension": ".py",
   "mimetype": "text/x-python",
   "name": "python",
   "nbconvert_exporter": "python",
   "pygments_lexer": "ipython3",
   "version": "3.8.6"
  }
 },
 "nbformat": 4,
 "nbformat_minor": 4
}
